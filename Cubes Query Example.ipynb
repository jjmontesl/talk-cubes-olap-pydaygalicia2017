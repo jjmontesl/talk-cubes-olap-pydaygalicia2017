{
 "cells": [
  {
   "cell_type": "markdown",
   "metadata": {},
   "source": [
    "# Cubes API access example"
   ]
  },
  {
   "cell_type": "code",
   "execution_count": 1,
   "metadata": {
    "collapsed": true
   },
   "outputs": [],
   "source": [
    "from cubes import Workspace, Cell, PointCut"
   ]
  },
  {
   "cell_type": "code",
   "execution_count": 2,
   "metadata": {
    "collapsed": true
   },
   "outputs": [],
   "source": [
    "# 1. Create a workspace\n",
    "workspace = Workspace()\n",
    "workspace.register_default_store(\"sql\", url=\"sqlite:///webshop/webshop.sqlite\")\n",
    "workspace.import_model(\"webshop/model.json\")"
   ]
  },
  {
   "cell_type": "code",
   "execution_count": 3,
   "metadata": {
    "collapsed": true
   },
   "outputs": [],
   "source": [
    "# 2. Get a browser\n",
    "browser = workspace.browser(\"webshop_sales\")"
   ]
  },
  {
   "cell_type": "markdown",
   "metadata": {},
   "source": [
    "Aggregates were defined like:\n",
    "\n",
    "```\n",
    "    {\n",
    "        \"function\": \"sum\",\n",
    "        \"label\": \"Price Total Sum\",\n",
    "        \"measure\": \"price_total\",\n",
    "        \"name\": \"price_total_sum\"\n",
    "    },\n",
    "```"
   ]
  },
  {
   "cell_type": "code",
   "execution_count": 4,
   "metadata": {},
   "outputs": [
    {
     "name": "stdout",
     "output_type": "stream",
     "text": [
      "Record count:     4550\n",
      "Price sum:      602547\n",
      "Items sum:        9861\n"
     ]
    }
   ],
   "source": [
    "# 3. Play with aggregates\n",
    "result = browser.aggregate()\n",
    "print(\"Record count: %8d\" % result.summary[\"record_count\"])\n",
    "print(\"Price sum:    %8d\" % result.summary[\"price_total_sum\"])\n",
    "print(\"Items sum:    %8d\" % result.summary[\"quantity_sum\"])"
   ]
  },
  {
   "cell_type": "code",
   "execution_count": 5,
   "metadata": {},
   "outputs": [
    {
     "name": "stdout",
     "output_type": "stream",
     "text": [
      "Product                  Count     Price  Quantity\n",
      "--------------------------------------------------\n",
      "Books                     1212    101684      2881\n",
      "Furniture                  369     42707       671\n",
      "Office basics              292     14818       681\n",
      "Office electronics        1120    394458      1847\n",
      "Paper & Stationery         679     24560      1733\n",
      "Software                   159         0       339\n",
      "Supplies                   460     20623      1112\n",
      "Writing                    259      3695       597\n"
     ]
    }
   ],
   "source": [
    "#\n",
    "# 4. Drill-down through a dimension\n",
    "#\n",
    "\n",
    "result = browser.aggregate(drilldown=[\"product@product\"])\n",
    "print((\"%-20s%10s%10s%10s\\n\"+\"-\"*50) % (\"Product\", \"Count\", \"Price\", \"Quantity\"))\n",
    "\n",
    "for row in result.table_rows(\"product\"):\n",
    "    print(\"%-20s%10d%10d%10d\" % ( row.label,\n",
    "                              row.record[\"record_count\"],\n",
    "                              row.record[\"price_total_sum\"],\n",
    "                              row.record[\"quantity_sum\"])\n",
    "                              )\n"
   ]
  }
 ],
 "metadata": {
  "kernelspec": {
   "display_name": "Python 3",
   "language": "python",
   "name": "python3"
  },
  "language_info": {
   "codemirror_mode": {
    "name": "ipython",
    "version": 3
   },
   "file_extension": ".py",
   "mimetype": "text/x-python",
   "name": "python",
   "nbconvert_exporter": "python",
   "pygments_lexer": "ipython3",
   "version": "3.5.2"
  }
 },
 "nbformat": 4,
 "nbformat_minor": 2
}
